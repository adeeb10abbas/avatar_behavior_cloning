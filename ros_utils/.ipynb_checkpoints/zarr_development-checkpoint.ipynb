{
 "cells": [
  {
   "cell_type": "code",
   "execution_count": 26,
   "id": "1805dff1-6fdf-4d44-b1ac-adac9c0fd747",
   "metadata": {
    "scrolled": true
   },
   "outputs": [
    {
     "name": "stdout",
     "output_type": "stream",
     "text": [
      "[[[ 49.  54.  57.]\n",
      "  [ 40.  45.  48.]\n",
      "  [ 41.  41.  41.]\n",
      "  ...\n",
      "  [142. 143. 137.]\n",
      "  [140. 145. 131.]\n",
      "  [140. 145. 131.]]\n",
      "\n",
      " [[ 47.  47.  47.]\n",
      "  [ 43.  43.  43.]\n",
      "  [ 41.  41.  41.]\n",
      "  ...\n",
      "  [142. 144. 133.]\n",
      "  [140. 145. 133.]\n",
      "  [140. 145. 133.]]\n",
      "\n",
      " [[ 47.  47.  47.]\n",
      "  [ 42.  42.  42.]\n",
      "  [ 41.  41.  41.]\n",
      "  ...\n",
      "  [143. 145. 132.]\n",
      "  [141. 146. 132.]\n",
      "  [140. 145. 131.]]\n",
      "\n",
      " ...\n",
      "\n",
      " [[151. 154. 138.]\n",
      "  [148. 151. 135.]\n",
      "  [144. 147. 129.]\n",
      "  ...\n",
      "  [105. 112. 123.]\n",
      "  [103. 112. 122.]\n",
      "  [103. 112. 122.]]\n",
      "\n",
      " [[146. 149. 133.]\n",
      "  [148. 151. 135.]\n",
      "  [147. 150. 132.]\n",
      "  ...\n",
      "  [103. 112. 120.]\n",
      "  [104. 111. 124.]\n",
      "  [104. 111. 124.]]\n",
      "\n",
      " [[142. 145. 127.]\n",
      "  [144. 147. 129.]\n",
      "  [144. 147. 129.]\n",
      "  ...\n",
      "  [104. 111. 122.]\n",
      "  [104. 111. 122.]\n",
      "  [104. 111. 122.]]]\n",
      "(480, 640, 3)\n",
      "(480, 640, 3)\n",
      "(480, 640, 3)\n",
      "(1, 3, 3, 480, 640)\n"
     ]
    },
    {
     "ename": "NameError",
     "evalue": "name 'left_image_raw' is not defined",
     "output_type": "error",
     "traceback": [
      "\u001b[0;31m---------------------------------------------------------------------------\u001b[0m",
      "\u001b[0;31mNameError\u001b[0m                                 Traceback (most recent call last)",
      "Cell \u001b[0;32mIn[26], line 35\u001b[0m\n\u001b[1;32m     28\u001b[0m \u001b[38;5;66;03m# Call your function with the appropriate file path\u001b[39;00m\n\u001b[1;32m     29\u001b[0m \u001b[38;5;66;03m# condense_hd5('/home/adeebabbas/isolated/avatar_behavior_cloning/ros_utils/structured_data.h5')\u001b[39;00m\n\u001b[1;32m     30\u001b[0m \n\u001b[1;32m     31\u001b[0m \n\u001b[1;32m     32\u001b[0m \u001b[38;5;66;03m# Call your function with the appropriate file path\u001b[39;00m\n\u001b[1;32m     33\u001b[0m \u001b[38;5;66;03m# condense_hd5('your_file_path_here.hdf5')\u001b[39;00m\n\u001b[1;32m     34\u001b[0m condense_hd5(FILE)\n\u001b[0;32m---> 35\u001b[0m \u001b[38;5;28mprint\u001b[39m(\u001b[43mleft_image_raw\u001b[49m)\n",
      "\u001b[0;31mNameError\u001b[0m: name 'left_image_raw' is not defined"
     ]
    }
   ],
   "source": [
    "import numpy as np\n",
    "import h5py\n",
    "FILE= '/home/adeebabbas/isolated/avatar_behavior_cloning/ros_utils/structured_data.h5'\n",
    "def condense_hd5(file_path):\n",
    "    with h5py.File(file_path, 'r') as file:\n",
    "        left_image_raw = file['observations/observations/usb_cam_left_image_raw'][:]\n",
    "        right_image_raw = file['observations/observations/usb_cam_right_image_raw'][:]\n",
    "        table_image_raw = file['observations/observations/usb_cam_table_image_raw'][:]\n",
    "        print(left_image_raw)\n",
    "        # Assuming all image datasets have the same number of images (N)\n",
    "        N = 1\n",
    "        print(left_image_raw.shape)\n",
    "        print(right_image_raw.shape)\n",
    "        print(table_image_raw.shape)\n",
    "        \n",
    "        # Initialize the new combined array with the correct shape\n",
    "        combined_array_image = np.zeros((N, 3, 3, 480, 640), dtype=left_image_raw.dtype)\n",
    "        \n",
    "        for i in range(N):\n",
    "            # Correctly transpose the images\n",
    "            combined_array_image[i, 0, :, :, :] = np.transpose(left_image_raw, (2, 0, 1))\n",
    "            combined_array_image[i, 1, :, :, :] = np.transpose(right_image_raw, (2, 0, 1))\n",
    "            combined_array_image[i, 2, :, :, :] = np.transpose(table_image_raw, (2, 0, 1))\n",
    "        \n",
    "        # Debug prints to check shapes\n",
    "        print(combined_array_image.shape)\n",
    "\n",
    "# Call your function with the appropriate file path\n",
    "# condense_hd5('/home/adeebabbas/isolated/avatar_behavior_cloning/ros_utils/structured_data.h5')\n",
    "\n",
    "\n",
    "# Call your function with the appropriate file path\n",
    "# condense_hd5('your_file_path_here.hdf5')\n",
    "condense_hd5(FILE)\n",
    "print(left_image_raw)"
   ]
  },
  {
   "cell_type": "code",
   "execution_count": 42,
   "id": "65335525-e417-4397-80d4-90a7d0a224ee",
   "metadata": {},
   "outputs": [
    {
     "name": "stdout",
     "output_type": "stream",
     "text": [
      "(480, 640, 3)\n"
     ]
    }
   ],
   "source": [
    "with h5py.File(FILE, 'r') as file:\n",
    "    group = file[\"observations\"]\n",
    "    print(group[\"observations\"][\"usb_cam_right_image_raw\"].shape)"
   ]
  },
  {
   "cell_type": "code",
   "execution_count": 47,
   "id": "078c776d-9c24-4713-989a-2120412d9c0f",
   "metadata": {},
   "outputs": [],
   "source": [
    "import torch \n",
    "images = torch.ones((100, 3, 3, 480, 640))\n",
    "haptics = torch.ones((100, 30))\n",
    "actions = torch.ones((100, 32))\n",
    "data_save = {\n",
    "    \"images\" : images,\n",
    "    \"haptics\" : haptics, \n",
    "    \"actions\": actions\n",
    "}"
   ]
  },
  {
   "cell_type": "code",
   "execution_count": 48,
   "id": "da094125-3b3b-46e2-9379-2ab7b1b41b65",
   "metadata": {},
   "outputs": [],
   "source": [
    "torch.save(data_save, \"test.pkl\")"
   ]
  },
  {
   "cell_type": "code",
   "execution_count": 51,
   "id": "31afad7d-280e-4ad0-9f31-27b3e5264c6c",
   "metadata": {},
   "outputs": [
    {
     "data": {
      "text/plain": [
       "torch.Size([100, 3, 3, 480, 640])"
      ]
     },
     "execution_count": 51,
     "metadata": {},
     "output_type": "execute_result"
    }
   ],
   "source": [
    "a = torch.load(\"test.pkl\")\n"
   ]
  },
  {
   "cell_type": "code",
   "execution_count": 54,
   "id": "5620e457-951c-4bb4-866b-a27d45ee1217",
   "metadata": {},
   "outputs": [
    {
     "name": "stdout",
     "output_type": "stream",
     "text": [
      "torch.Size([100, 3, 3, 480, 640])\n",
      "torch.Size([100, 30])\n",
      "torch.Size([100, 32])\n"
     ]
    }
   ],
   "source": [
    "print(a[\"images\"].shape)\n",
    "print(a[\"haptics\"].shape)\n",
    "print(a[\"actions\"].shape)"
   ]
  }
 ],
 "metadata": {
  "kernelspec": {
   "display_name": "tri",
   "language": "python",
   "name": "tri"
  },
  "language_info": {
   "codemirror_mode": {
    "name": "ipython",
    "version": 3
   },
   "file_extension": ".py",
   "mimetype": "text/x-python",
   "name": "python",
   "nbconvert_exporter": "python",
   "pygments_lexer": "ipython3",
   "version": "3.10.12"
  }
 },
 "nbformat": 4,
 "nbformat_minor": 5
}
